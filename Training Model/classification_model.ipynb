{
 "cells": [
  {
   "cell_type": "code",
   "execution_count": 1,
   "id": "362a6da9",
   "metadata": {},
   "outputs": [],
   "source": [
    "import pandas as pd\n",
    "import numpy as np\n",
    "import seaborn as sns\n",
    "import matplotlib.pyplot as plt\n",
    "from sklearn.compose import ColumnTransformer\n",
    "from sklearn.preprocessing import OrdinalEncoder\n",
    "from sklearn.pipeline import Pipeline\n",
    "from sklearn.ensemble import RandomForestClassifier\n",
    "from sklearn.model_selection import train_test_split\n",
    "from sklearn.metrics import classification_report, confusion_matrix, accuracy_score\n",
    "from sklearn.model_selection import GridSearchCV\n",
    "import joblib"
   ]
  },
  {
   "cell_type": "code",
   "execution_count": 2,
   "id": "77f2cb4e",
   "metadata": {},
   "outputs": [],
   "source": [
    "df = pd.read_csv('../Data/processed_data.csv')"
   ]
  },
  {
   "cell_type": "code",
   "execution_count": 3,
   "id": "d2b9d4fb",
   "metadata": {},
   "outputs": [],
   "source": [
    "X = df.drop(['comments','treatment' , 'Age','state'] , axis =1)\n",
    "y = df['treatment'].map({'Yes': 1, 'No': 0})"
   ]
  },
  {
   "cell_type": "code",
   "execution_count": 4,
   "id": "d70d9674",
   "metadata": {},
   "outputs": [],
   "source": [
    "X_train , X_test , y_train, y_test = train_test_split(X,y,test_size = 0.2 , random_state = 42)"
   ]
  },
  {
   "cell_type": "code",
   "execution_count": 5,
   "id": "3bf0c30b",
   "metadata": {},
   "outputs": [],
   "source": [
    "categorical_cols = X_train.select_dtypes(include=['object', 'category', 'bool']).columns.tolist()"
   ]
  },
  {
   "cell_type": "code",
   "execution_count": 6,
   "id": "645c81f8",
   "metadata": {},
   "outputs": [],
   "source": [
    "encoder = ColumnTransformer(\n",
    "        transformers=[\n",
    "        ('cat', OrdinalEncoder(handle_unknown='use_encoded_value', unknown_value=-1), categorical_cols),\n",
    "        ]\n",
    ")"
   ]
  },
  {
   "cell_type": "code",
   "execution_count": 7,
   "id": "c0d5ab79",
   "metadata": {},
   "outputs": [],
   "source": [
    "rf_pipeline = Pipeline(steps=[\n",
    "    ('preprocessor', encoder),\n",
    "    ('classifier', RandomForestClassifier(random_state=42))\n",
    "])"
   ]
  },
  {
   "cell_type": "code",
   "execution_count": 8,
   "id": "76c038c8",
   "metadata": {},
   "outputs": [],
   "source": [
    "rf_pipeline.fit(X_train,y_train)\n",
    "y_pred = rf_pipeline.predict(X_test)"
   ]
  },
  {
   "cell_type": "code",
   "execution_count": 9,
   "id": "8dacbfa0",
   "metadata": {},
   "outputs": [
    {
     "data": {
      "text/plain": [
       "['../Models/classification pipline.pkl']"
      ]
     },
     "execution_count": 9,
     "metadata": {},
     "output_type": "execute_result"
    }
   ],
   "source": [
    "joblib.dump(rf_pipeline ,'../Models/classification pipline.pkl')"
   ]
  },
  {
   "cell_type": "code",
   "execution_count": 10,
   "id": "27908efb",
   "metadata": {},
   "outputs": [
    {
     "name": "stdout",
     "output_type": "stream",
     "text": [
      "✅ Confusion Matrix:\n",
      " [[ 84  29]\n",
      " [ 25 113]]\n",
      "\n",
      "✅ Classification Report:\n",
      "               precision    recall  f1-score   support\n",
      "\n",
      "           0       0.77      0.74      0.76       113\n",
      "           1       0.80      0.82      0.81       138\n",
      "\n",
      "    accuracy                           0.78       251\n",
      "   macro avg       0.78      0.78      0.78       251\n",
      "weighted avg       0.78      0.78      0.78       251\n",
      "\n",
      "✅ Accuracy Score: 0.7848605577689243\n"
     ]
    }
   ],
   "source": [
    "print(\"✅ Confusion Matrix:\\n\", confusion_matrix(y_test, y_pred))\n",
    "print(\"\\n✅ Classification Report:\\n\", classification_report(y_test, y_pred))\n",
    "print(\"✅ Accuracy Score:\", accuracy_score(y_test, y_pred))"
   ]
  }
 ],
 "metadata": {
  "kernelspec": {
   "display_name": "Python 3",
   "language": "python",
   "name": "python3"
  },
  "language_info": {
   "codemirror_mode": {
    "name": "ipython",
    "version": 3
   },
   "file_extension": ".py",
   "mimetype": "text/x-python",
   "name": "python",
   "nbconvert_exporter": "python",
   "pygments_lexer": "ipython3",
   "version": "3.13.3"
  }
 },
 "nbformat": 4,
 "nbformat_minor": 5
}
